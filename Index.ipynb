{
 "metadata": {
  "kernelspec": {
   "codemirror_mode": {
    "name": "ipython",
    "version": 2
   },
   "display_name": "IPython (Python 2)",
   "language": "python",
   "name": "python2"
  },
  "name": "",
  "signature": "sha256:33cfaed3ffb663d15379d4b1fb791feda788fb093c991962cfc9fe5f0052a9b0"
 },
 "nbformat": 3,
 "nbformat_minor": 0,
 "worksheets": [
  {
   "cells": [
    {
     "cell_type": "heading",
     "level": 1,
     "metadata": {
      "slideshow": {
       "slide_type": "slide"
      }
     },
     "source": [
      "Making Exploratory and Interactive Scientific Computing Open and Reproducible"
     ]
    },
    {
     "cell_type": "code",
     "collapsed": false,
     "input": [
      "from IPython.display import display, Image, HTML\n",
      "from talktools import website, nbviewer"
     ],
     "language": "python",
     "metadata": {},
     "outputs": []
    },
    {
     "cell_type": "markdown",
     "metadata": {
      "slideshow": {
       "slide_type": "-"
      }
     },
     "source": [
      "### Brian E. Granger (@ellisonbg)\n",
      "\n",
      "### Physics Professor, Cal Poly\n",
      "\n",
      "<img src=\"images/calpoly_logo.png\" height=\"65px\">\n",
      "\n",
      "### Core developer, IPython Project\n",
      "\n",
      "<img src=\"images/ipython_logo.png\" height=\"65px\">\n",
      "\n",
      "### Co-founder, Project Jupyter\n",
      "\n",
      "<img src=\"images/jupyter_logo.jpg\" height=\"100px\">"
     ]
    },
    {
     "cell_type": "markdown",
     "metadata": {},
     "source": [
      "### Harvard-Smithsonian Center for Astrophysics (CfA)\n",
      "### August 2014\n",
      "### Cambridge, MA"
     ]
    },
    {
     "cell_type": "heading",
     "level": 2,
     "metadata": {
      "slideshow": {
       "slide_type": "slide"
      }
     },
     "source": [
      "Theme"
     ]
    },
    {
     "cell_type": "markdown",
     "metadata": {},
     "source": [
      "<div class=\"alert alert-success\"> Computing, and thus software, is one of the foundations of science </div>\n",
      "<div class=\"alert alert-success\"> The attributes of science follow from the attribute of software </div>\n",
      "<div class=\"alert alert-success\"> Open science requires open software </div>"
     ]
    },
    {
     "cell_type": "heading",
     "level": 2,
     "metadata": {
      "slideshow": {
       "slide_type": "slide"
      }
     },
     "source": [
      "Outline"
     ]
    },
    {
     "cell_type": "markdown",
     "metadata": {},
     "source": [
      "* [Tools for Open Science](Tools for Open Science.ipynb)\n",
      "* [Jupyter and IPython](Jupyter and IPython.ipynb)\n",
      "* [Notebook Tour](Notebook Tour.ipynb)\n",
      "* [Notebook Usage](Notebook Usage.ipynb)\n",
      "* [Multilanguage](Multilanguage.ipynb)\n",
      "* [Interaction](Interaction.ipynb)\n",
      "* [Visualization](Visualization.ipynb)\n",
      "* [Components](Components.ipynb)"
     ]
    }
   ],
   "metadata": {}
  }
 ]
}